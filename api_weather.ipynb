{
 "cells": [
  {
   "cell_type": "markdown",
   "id": "competitive-actress",
   "metadata": {},
   "source": [
    "Basic Use\n",
    "\n",
    "For additional information, refer to the Weatherbit.io API documentation .\n",
    "\n",
    "To use the wrapper:\n",
    "key - Your API key from https://www.weatherbit.io.\n",
    "\n",
    "https://github.com/weatherbit/weatherbit-python"
   ]
  },
  {
   "cell_type": "code",
   "execution_count": null,
   "id": "parallel-table",
   "metadata": {},
   "outputs": [],
   "source": [
    "from weatherbit.api import Api\n",
    "\tapi_key = \"YOUR API KEY\"\n",
    "\tlat = 38.00\n",
    "\tlon = -125.75\n",
    "\n",
    "\tapi = Api(api_key)\n",
    "\n",
    "\t# Set the granularity of the API - Options: ['daily','hourly','3hourly']\n",
    "\t# Will only affect forecast requests.\n",
    "\tapi.set_granularity('daily')\n",
    "\n",
    "\t# Query by lat/lon\n",
    "\tforecast = api.get_forecast(lat=lat, lon=lon)\n",
    "\n",
    "\t# You can also query by city:\n",
    "\tforecast = api.get_forecast(city=\"Raleigh,NC\")\n",
    "\n",
    "\t# Or City, state, and country:\n",
    "\tforecast = api.get_forecast(city=\"Raleigh\", state=\"North Carolina\", country=\"US\")\n",
    "\n",
    "\t# To get a daily forecast of temperature, and precipitation:\n",
    "\tprint forecast.get_series(['temp','precip'])\n",
    "\n",
    "\t# Get daily history by lat/lon:\n",
    "\tapi.set_granularity('daily')\n",
    "\thistory = api.get_history(lat=lat, lon=lon, start_date='2018-02-01',end_date='2018-02-02')\n",
    "\n",
    "\t# To get a daily time series of temperature, precipitation, and rh:\n",
    "\tprint history.get_series(['precip','temp','rh'])\n",
    "\n",
    "\t# Get hourly history by lat/lon\n",
    "\tapi.set_granularity('hourly')\n",
    "\thistory = api.get_history(lat=lat, lon=lon, start_date='2018-02-01',end_date='2018-02-02')\n",
    "\t\n",
    "\t# To get an hourly time series of temperature, precipitation, and rh:\n",
    "\tprint history.get_series(['precip','temp','rh'])"
   ]
  }
 ],
 "metadata": {
  "kernelspec": {
   "display_name": "Python 3",
   "language": "python",
   "name": "python3"
  },
  "language_info": {
   "codemirror_mode": {
    "name": "ipython",
    "version": 3
   },
   "file_extension": ".py",
   "mimetype": "text/x-python",
   "name": "python",
   "nbconvert_exporter": "python",
   "pygments_lexer": "ipython3",
   "version": "3.8.5"
  }
 },
 "nbformat": 4,
 "nbformat_minor": 5
}
