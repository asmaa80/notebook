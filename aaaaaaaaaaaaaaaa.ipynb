{
 "cells": [
  {
   "cell_type": "code",
   "execution_count": 3,
   "id": "039bbd73",
   "metadata": {},
   "outputs": [
    {
     "data": {
      "application/vnd.plotly.v1+json": {
       "config": {
        "plotlyServerURL": "https://plot.ly"
       },
       "data": [
        {
         "alignmentgroup": "True",
         "hovertemplate": "duree_entree_sortie=%{y}<br>Logement=%{x}<extra></extra>",
         "legendgroup": "490 days ",
         "marker": {
          "color": "#636efa"
         },
         "name": "490 days ",
         "offsetgroup": "490 days ",
         "orientation": "v",
         "showlegend": true,
         "textposition": "auto",
         "type": "bar",
         "x": [
          "REB45     "
         ],
         "xaxis": "x",
         "y": [
          "490 days "
         ],
         "yaxis": "y"
        },
        {
         "alignmentgroup": "True",
         "hovertemplate": "duree_entree_sortie=%{y}<br>Logement=%{x}<extra></extra>",
         "legendgroup": "4369 days",
         "marker": {
          "color": "#EF553B"
         },
         "name": "4369 days",
         "offsetgroup": "4369 days",
         "orientation": "v",
         "showlegend": true,
         "textposition": "auto",
         "type": "bar",
         "x": [
          "REA74     "
         ],
         "xaxis": "x",
         "y": [
          "4369 days"
         ],
         "yaxis": "y"
        },
        {
         "alignmentgroup": "True",
         "hovertemplate": "duree_entree_sortie=%{y}<br>Logement=%{x}<extra></extra>",
         "legendgroup": "556 days ",
         "marker": {
          "color": "#00cc96"
         },
         "name": "556 days ",
         "offsetgroup": "556 days ",
         "orientation": "v",
         "showlegend": true,
         "textposition": "auto",
         "type": "bar",
         "x": [
          "TERR7204"
         ],
         "xaxis": "x",
         "y": [
          "556 days "
         ],
         "yaxis": "y"
        },
        {
         "alignmentgroup": "True",
         "hovertemplate": "duree_entree_sortie=%{y}<br>Logement=%{x}<extra></extra>",
         "legendgroup": "189 days ",
         "marker": {
          "color": "#ab63fa"
         },
         "name": "189 days ",
         "offsetgroup": "189 days ",
         "orientation": "v",
         "showlegend": true,
         "textposition": "auto",
         "type": "bar",
         "x": [
          "REA34     "
         ],
         "xaxis": "x",
         "y": [
          "189 days "
         ],
         "yaxis": "y"
        },
        {
         "alignmentgroup": "True",
         "hovertemplate": "duree_entree_sortie=%{y}<br>Logement=%{x}<extra></extra>",
         "legendgroup": "1 days ",
         "marker": {
          "color": "#FFA15A"
         },
         "name": "1 days ",
         "offsetgroup": "1 days ",
         "orientation": "v",
         "showlegend": true,
         "textposition": "auto",
         "type": "bar",
         "x": [
          "REA18     "
         ],
         "xaxis": "x",
         "y": [
          "1 days "
         ],
         "yaxis": "y"
        },
        {
         "alignmentgroup": "True",
         "hovertemplate": "duree_entree_sortie=%{y}<br>Logement=%{x}<extra></extra>",
         "legendgroup": "23 days ",
         "marker": {
          "color": "#19d3f3"
         },
         "name": "23 days ",
         "offsetgroup": "23 days ",
         "orientation": "v",
         "showlegend": true,
         "textposition": "auto",
         "type": "bar",
         "x": [
          "REA18     ",
          "REA21     "
         ],
         "xaxis": "x",
         "y": [
          "23 days ",
          "23 days "
         ],
         "yaxis": "y"
        },
        {
         "alignmentgroup": "True",
         "hovertemplate": "duree_entree_sortie=%{y}<br>Logement=%{x}<extra></extra>",
         "legendgroup": "853 days ",
         "marker": {
          "color": "#FF6692"
         },
         "name": "853 days ",
         "offsetgroup": "853 days ",
         "orientation": "v",
         "showlegend": true,
         "textposition": "auto",
         "type": "bar",
         "x": [
          "REA56     "
         ],
         "xaxis": "x",
         "y": [
          "853 days "
         ],
         "yaxis": "y"
        },
        {
         "alignmentgroup": "True",
         "hovertemplate": "duree_entree_sortie=%{y}<br>Logement=%{x}<extra></extra>",
         "legendgroup": "1323 days ",
         "marker": {
          "color": "#B6E880"
         },
         "name": "1323 days ",
         "offsetgroup": "1323 days ",
         "orientation": "v",
         "showlegend": true,
         "textposition": "auto",
         "type": "bar",
         "x": [
          "REA23     "
         ],
         "xaxis": "x",
         "y": [
          "1323 days "
         ],
         "yaxis": "y"
        },
        {
         "alignmentgroup": "True",
         "hovertemplate": "duree_entree_sortie=%{y}<br>Logement=%{x}<extra></extra>",
         "legendgroup": "1095 days ",
         "marker": {
          "color": "#FF97FF"
         },
         "name": "1095 days ",
         "offsetgroup": "1095 days ",
         "orientation": "v",
         "showlegend": true,
         "textposition": "auto",
         "type": "bar",
         "x": [
          "26VO0221"
         ],
         "xaxis": "x",
         "y": [
          "1095 days "
         ],
         "yaxis": "y"
        },
        {
         "alignmentgroup": "True",
         "hovertemplate": "duree_entree_sortie=%{y}<br>Logement=%{x}<extra></extra>",
         "legendgroup": "584 days ",
         "marker": {
          "color": "#FECB52"
         },
         "name": "584 days ",
         "offsetgroup": "584 days ",
         "orientation": "v",
         "showlegend": true,
         "textposition": "auto",
         "type": "bar",
         "x": [
          "REB31     "
         ],
         "xaxis": "x",
         "y": [
          "584 days "
         ],
         "yaxis": "y"
        },
        {
         "alignmentgroup": "True",
         "hovertemplate": "duree_entree_sortie=%{y}<br>Logement=%{x}<extra></extra>",
         "legendgroup": "89 days ",
         "marker": {
          "color": "#636efa"
         },
         "name": "89 days ",
         "offsetgroup": "89 days ",
         "orientation": "v",
         "showlegend": true,
         "textposition": "auto",
         "type": "bar",
         "x": [
          "RERH4     "
         ],
         "xaxis": "x",
         "y": [
          "89 days "
         ],
         "yaxis": "y"
        },
        {
         "alignmentgroup": "True",
         "hovertemplate": "duree_entree_sortie=%{y}<br>Logement=%{x}<extra></extra>",
         "legendgroup": "48 days ",
         "marker": {
          "color": "#EF553B"
         },
         "name": "48 days ",
         "offsetgroup": "48 days ",
         "orientation": "v",
         "showlegend": true,
         "textposition": "auto",
         "type": "bar",
         "x": [
          "REA16     "
         ],
         "xaxis": "x",
         "y": [
          "48 days "
         ],
         "yaxis": "y"
        },
        {
         "alignmentgroup": "True",
         "hovertemplate": "duree_entree_sortie=%{y}<br>Logement=%{x}<extra></extra>",
         "legendgroup": "221 days ",
         "marker": {
          "color": "#00cc96"
         },
         "name": "221 days ",
         "offsetgroup": "221 days ",
         "orientation": "v",
         "showlegend": true,
         "textposition": "auto",
         "type": "bar",
         "x": [
          "REA22",
          "26VO0158"
         ],
         "xaxis": "x",
         "y": [
          "221 days ",
          "221 days "
         ],
         "yaxis": "y"
        },
        {
         "alignmentgroup": "True",
         "hovertemplate": "duree_entree_sortie=%{y}<br>Logement=%{x}<extra></extra>",
         "legendgroup": "354 days ",
         "marker": {
          "color": "#ab63fa"
         },
         "name": "354 days ",
         "offsetgroup": "354 days ",
         "orientation": "v",
         "showlegend": true,
         "textposition": "auto",
         "type": "bar",
         "x": [
          "REA12     "
         ],
         "xaxis": "x",
         "y": [
          "354 days "
         ],
         "yaxis": "y"
        },
        {
         "alignmentgroup": "True",
         "hovertemplate": "duree_entree_sortie=%{y}<br>Logement=%{x}<extra></extra>",
         "legendgroup": "337 days ",
         "marker": {
          "color": "#FFA15A"
         },
         "name": "337 days ",
         "offsetgroup": "337 days ",
         "orientation": "v",
         "showlegend": true,
         "textposition": "auto",
         "type": "bar",
         "x": [
          "REA16"
         ],
         "xaxis": "x",
         "y": [
          "337 days "
         ],
         "yaxis": "y"
        },
        {
         "alignmentgroup": "True",
         "hovertemplate": "duree_entree_sortie=%{y}<br>Logement=%{x}<extra></extra>",
         "legendgroup": "220 days ",
         "marker": {
          "color": "#19d3f3"
         },
         "name": "220 days ",
         "offsetgroup": "220 days ",
         "orientation": "v",
         "showlegend": true,
         "textposition": "auto",
         "type": "bar",
         "x": [
          "REA42"
         ],
         "xaxis": "x",
         "y": [
          "220 days "
         ],
         "yaxis": "y"
        },
        {
         "alignmentgroup": "True",
         "hovertemplate": "duree_entree_sortie=%{y}<br>Logement=%{x}<extra></extra>",
         "legendgroup": "15 days ",
         "marker": {
          "color": "#FF6692"
         },
         "name": "15 days ",
         "offsetgroup": "15 days ",
         "orientation": "v",
         "showlegend": true,
         "textposition": "auto",
         "type": "bar",
         "x": [
          "REA11     "
         ],
         "xaxis": "x",
         "y": [
          "15 days "
         ],
         "yaxis": "y"
        },
        {
         "alignmentgroup": "True",
         "hovertemplate": "duree_entree_sortie=%{y}<br>Logement=%{x}<extra></extra>",
         "legendgroup": "401 days ",
         "marker": {
          "color": "#B6E880"
         },
         "name": "401 days ",
         "offsetgroup": "401 days ",
         "orientation": "v",
         "showlegend": true,
         "textposition": "auto",
         "type": "bar",
         "x": [
          "REA34     ",
          "REA25"
         ],
         "xaxis": "x",
         "y": [
          "401 days ",
          "401 days "
         ],
         "yaxis": "y"
        },
        {
         "alignmentgroup": "True",
         "hovertemplate": "duree_entree_sortie=%{y}<br>Logement=%{x}<extra></extra>",
         "legendgroup": "18 days ",
         "marker": {
          "color": "#FF97FF"
         },
         "name": "18 days ",
         "offsetgroup": "18 days ",
         "orientation": "v",
         "showlegend": true,
         "textposition": "auto",
         "type": "bar",
         "x": [
          "REA15     "
         ],
         "xaxis": "x",
         "y": [
          "18 days "
         ],
         "yaxis": "y"
        },
        {
         "alignmentgroup": "True",
         "hovertemplate": "duree_entree_sortie=%{y}<br>Logement=%{x}<extra></extra>",
         "legendgroup": "91 days ",
         "marker": {
          "color": "#FECB52"
         },
         "name": "91 days ",
         "offsetgroup": "91 days ",
         "orientation": "v",
         "showlegend": true,
         "textposition": "auto",
         "type": "bar",
         "x": [
          "REA37     "
         ],
         "xaxis": "x",
         "y": [
          "91 days "
         ],
         "yaxis": "y"
        },
        {
         "alignmentgroup": "True",
         "hovertemplate": "duree_entree_sortie=%{y}<br>Logement=%{x}<extra></extra>",
         "legendgroup": "634 days ",
         "marker": {
          "color": "#636efa"
         },
         "name": "634 days ",
         "offsetgroup": "634 days ",
         "orientation": "v",
         "showlegend": true,
         "textposition": "auto",
         "type": "bar",
         "x": [
          "REB14     "
         ],
         "xaxis": "x",
         "y": [
          "634 days "
         ],
         "yaxis": "y"
        },
        {
         "alignmentgroup": "True",
         "hovertemplate": "duree_entree_sortie=%{y}<br>Logement=%{x}<extra></extra>",
         "legendgroup": "43 days ",
         "marker": {
          "color": "#EF553B"
         },
         "name": "43 days ",
         "offsetgroup": "43 days ",
         "orientation": "v",
         "showlegend": true,
         "textposition": "auto",
         "type": "bar",
         "x": [
          "RERH6"
         ],
         "xaxis": "x",
         "y": [
          "43 days "
         ],
         "yaxis": "y"
        },
        {
         "alignmentgroup": "True",
         "hovertemplate": "duree_entree_sortie=%{y}<br>Logement=%{x}<extra></extra>",
         "legendgroup": "24 days ",
         "marker": {
          "color": "#00cc96"
         },
         "name": "24 days ",
         "offsetgroup": "24 days ",
         "orientation": "v",
         "showlegend": true,
         "textposition": "auto",
         "type": "bar",
         "x": [
          "REA15     "
         ],
         "xaxis": "x",
         "y": [
          "24 days "
         ],
         "yaxis": "y"
        },
        {
         "alignmentgroup": "True",
         "hovertemplate": "duree_entree_sortie=%{y}<br>Logement=%{x}<extra></extra>",
         "legendgroup": "627 days ",
         "marker": {
          "color": "#ab63fa"
         },
         "name": "627 days ",
         "offsetgroup": "627 days ",
         "orientation": "v",
         "showlegend": true,
         "textposition": "auto",
         "type": "bar",
         "x": [
          "REA33     "
         ],
         "xaxis": "x",
         "y": [
          "627 days "
         ],
         "yaxis": "y"
        },
        {
         "alignmentgroup": "True",
         "hovertemplate": "duree_entree_sortie=%{y}<br>Logement=%{x}<extra></extra>",
         "legendgroup": "71 days ",
         "marker": {
          "color": "#FFA15A"
         },
         "name": "71 days ",
         "offsetgroup": "71 days ",
         "orientation": "v",
         "showlegend": true,
         "textposition": "auto",
         "type": "bar",
         "x": [
          "REA14     "
         ],
         "xaxis": "x",
         "y": [
          "71 days "
         ],
         "yaxis": "y"
        },
        {
         "alignmentgroup": "True",
         "hovertemplate": "duree_entree_sortie=%{y}<br>Logement=%{x}<extra></extra>",
         "legendgroup": "760 days ",
         "marker": {
          "color": "#19d3f3"
         },
         "name": "760 days ",
         "offsetgroup": "760 days ",
         "orientation": "v",
         "showlegend": true,
         "textposition": "auto",
         "type": "bar",
         "x": [
          "REB43     "
         ],
         "xaxis": "x",
         "y": [
          "760 days "
         ],
         "yaxis": "y"
        },
        {
         "alignmentgroup": "True",
         "hovertemplate": "duree_entree_sortie=%{y}<br>Logement=%{x}<extra></extra>",
         "legendgroup": "522 days ",
         "marker": {
          "color": "#FF6692"
         },
         "name": "522 days ",
         "offsetgroup": "522 days ",
         "orientation": "v",
         "showlegend": true,
         "textposition": "auto",
         "type": "bar",
         "x": [
          "REA66     "
         ],
         "xaxis": "x",
         "y": [
          "522 days "
         ],
         "yaxis": "y"
        },
        {
         "alignmentgroup": "True",
         "hovertemplate": "duree_entree_sortie=%{y}<br>Logement=%{x}<extra></extra>",
         "legendgroup": "767 days ",
         "marker": {
          "color": "#B6E880"
         },
         "name": "767 days ",
         "offsetgroup": "767 days ",
         "orientation": "v",
         "showlegend": true,
         "textposition": "auto",
         "type": "bar",
         "x": [
          "REB41     "
         ],
         "xaxis": "x",
         "y": [
          "767 days "
         ],
         "yaxis": "y"
        },
        {
         "alignmentgroup": "True",
         "hovertemplate": "duree_entree_sortie=%{y}<br>Logement=%{x}<extra></extra>",
         "legendgroup": "10 days ",
         "marker": {
          "color": "#FF97FF"
         },
         "name": "10 days ",
         "offsetgroup": "10 days ",
         "orientation": "v",
         "showlegend": true,
         "textposition": "auto",
         "type": "bar",
         "x": [
          "REA21     "
         ],
         "xaxis": "x",
         "y": [
          "10 days "
         ],
         "yaxis": "y"
        },
        {
         "alignmentgroup": "True",
         "hovertemplate": "duree_entree_sortie=%{y}<br>Logement=%{x}<extra></extra>",
         "legendgroup": "312 days ",
         "marker": {
          "color": "#FECB52"
         },
         "name": "312 days ",
         "offsetgroup": "312 days ",
         "orientation": "v",
         "showlegend": true,
         "textposition": "auto",
         "type": "bar",
         "x": [
          "REB44     "
         ],
         "xaxis": "x",
         "y": [
          "312 days "
         ],
         "yaxis": "y"
        },
        {
         "alignmentgroup": "True",
         "hovertemplate": "duree_entree_sortie=%{y}<br>Logement=%{x}<extra></extra>",
         "legendgroup": "457 days ",
         "marker": {
          "color": "#636efa"
         },
         "name": "457 days ",
         "offsetgroup": "457 days ",
         "orientation": "v",
         "showlegend": true,
         "textposition": "auto",
         "type": "bar",
         "x": [
          "REB16     "
         ],
         "xaxis": "x",
         "y": [
          "457 days "
         ],
         "yaxis": "y"
        },
        {
         "alignmentgroup": "True",
         "hovertemplate": "duree_entree_sortie=%{y}<br>Logement=%{x}<extra></extra>",
         "legendgroup": "732 days",
         "marker": {
          "color": "#EF553B"
         },
         "name": "732 days",
         "offsetgroup": "732 days",
         "orientation": "v",
         "showlegend": true,
         "textposition": "auto",
         "type": "bar",
         "x": [
          "Null"
         ],
         "xaxis": "x",
         "y": [
          "732 days"
         ],
         "yaxis": "y"
        },
        {
         "alignmentgroup": "True",
         "hovertemplate": "duree_entree_sortie=%{y}<br>Logement=%{x}<extra></extra>",
         "legendgroup": "732 days ",
         "marker": {
          "color": "#00cc96"
         },
         "name": "732 days ",
         "offsetgroup": "732 days ",
         "orientation": "v",
         "showlegend": true,
         "textposition": "auto",
         "type": "bar",
         "x": [
          "Null"
         ],
         "xaxis": "x",
         "y": [
          "732 days "
         ],
         "yaxis": "y"
        },
        {
         "alignmentgroup": "True",
         "hovertemplate": "duree_entree_sortie=%{y}<br>Logement=%{x}<extra></extra>",
         "legendgroup": "729 days ",
         "marker": {
          "color": "#ab63fa"
         },
         "name": "729 days ",
         "offsetgroup": "729 days ",
         "orientation": "v",
         "showlegend": true,
         "textposition": "auto",
         "type": "bar",
         "x": [
          "REA58     "
         ],
         "xaxis": "x",
         "y": [
          "729 days "
         ],
         "yaxis": "y"
        },
        {
         "alignmentgroup": "True",
         "hovertemplate": "duree_entree_sortie=%{y}<br>Logement=%{x}<extra></extra>",
         "legendgroup": "1420 days ",
         "marker": {
          "color": "#FFA15A"
         },
         "name": "1420 days ",
         "offsetgroup": "1420 days ",
         "orientation": "v",
         "showlegend": true,
         "textposition": "auto",
         "type": "bar",
         "x": [
          "REA44     "
         ],
         "xaxis": "x",
         "y": [
          "1420 days "
         ],
         "yaxis": "y"
        },
        {
         "alignmentgroup": "True",
         "hovertemplate": "duree_entree_sortie=%{y}<br>Logement=%{x}<extra></extra>",
         "legendgroup": "14 days ",
         "marker": {
          "color": "#19d3f3"
         },
         "name": "14 days ",
         "offsetgroup": "14 days ",
         "orientation": "v",
         "showlegend": true,
         "textposition": "auto",
         "type": "bar",
         "x": [
          "REA15     "
         ],
         "xaxis": "x",
         "y": [
          "14 days "
         ],
         "yaxis": "y"
        },
        {
         "alignmentgroup": "True",
         "hovertemplate": "duree_entree_sortie=%{y}<br>Logement=%{x}<extra></extra>",
         "legendgroup": "664 days ",
         "marker": {
          "color": "#FF6692"
         },
         "name": "664 days ",
         "offsetgroup": "664 days ",
         "orientation": "v",
         "showlegend": true,
         "textposition": "auto",
         "type": "bar",
         "x": [
          "REA55     "
         ],
         "xaxis": "x",
         "y": [
          "664 days "
         ],
         "yaxis": "y"
        },
        {
         "alignmentgroup": "True",
         "hovertemplate": "duree_entree_sortie=%{y}<br>Logement=%{x}<extra></extra>",
         "legendgroup": "794 days ",
         "marker": {
          "color": "#B6E880"
         },
         "name": "794 days ",
         "offsetgroup": "794 days ",
         "orientation": "v",
         "showlegend": true,
         "textposition": "auto",
         "type": "bar",
         "x": [
          "TERR7104"
         ],
         "xaxis": "x",
         "y": [
          "794 days "
         ],
         "yaxis": "y"
        },
        {
         "alignmentgroup": "True",
         "hovertemplate": "duree_entree_sortie=%{y}<br>Logement=%{x}<extra></extra>",
         "legendgroup": "1795 days",
         "marker": {
          "color": "#FF97FF"
         },
         "name": "1795 days",
         "offsetgroup": "1795 days",
         "orientation": "v",
         "showlegend": true,
         "textposition": "auto",
         "type": "bar",
         "x": [
          "CLO10018"
         ],
         "xaxis": "x",
         "y": [
          "1795 days"
         ],
         "yaxis": "y"
        },
        {
         "alignmentgroup": "True",
         "hovertemplate": "duree_entree_sortie=%{y}<br>Logement=%{x}<extra></extra>",
         "legendgroup": "2622 days ",
         "marker": {
          "color": "#FECB52"
         },
         "name": "2622 days ",
         "offsetgroup": "2622 days ",
         "orientation": "v",
         "showlegend": true,
         "textposition": "auto",
         "type": "bar",
         "x": [
          "REB25     "
         ],
         "xaxis": "x",
         "y": [
          "2622 days "
         ],
         "yaxis": "y"
        },
        {
         "alignmentgroup": "True",
         "hovertemplate": "duree_entree_sortie=%{y}<br>Logement=%{x}<extra></extra>",
         "legendgroup": "242 days ",
         "marker": {
          "color": "#636efa"
         },
         "name": "242 days ",
         "offsetgroup": "242 days ",
         "orientation": "v",
         "showlegend": true,
         "textposition": "auto",
         "type": "bar",
         "x": [
          "REA42"
         ],
         "xaxis": "x",
         "y": [
          "242 days "
         ],
         "yaxis": "y"
        },
        {
         "alignmentgroup": "True",
         "hovertemplate": "duree_entree_sortie=%{y}<br>Logement=%{x}<extra></extra>",
         "legendgroup": "1402 days ",
         "marker": {
          "color": "#EF553B"
         },
         "name": "1402 days ",
         "offsetgroup": "1402 days ",
         "orientation": "v",
         "showlegend": true,
         "textposition": "auto",
         "type": "bar",
         "x": [
          "HERB0003"
         ],
         "xaxis": "x",
         "y": [
          "1402 days "
         ],
         "yaxis": "y"
        },
        {
         "alignmentgroup": "True",
         "hovertemplate": "duree_entree_sortie=%{y}<br>Logement=%{x}<extra></extra>",
         "legendgroup": "961 days ",
         "marker": {
          "color": "#00cc96"
         },
         "name": "961 days ",
         "offsetgroup": "961 days ",
         "orientation": "v",
         "showlegend": true,
         "textposition": "auto",
         "type": "bar",
         "x": [
          "REB26     "
         ],
         "xaxis": "x",
         "y": [
          "961 days "
         ],
         "yaxis": "y"
        },
        {
         "alignmentgroup": "True",
         "hovertemplate": "duree_entree_sortie=%{y}<br>Logement=%{x}<extra></extra>",
         "legendgroup": "1525 days ",
         "marker": {
          "color": "#ab63fa"
         },
         "name": "1525 days ",
         "offsetgroup": "1525 days ",
         "orientation": "v",
         "showlegend": true,
         "textposition": "auto",
         "type": "bar",
         "x": [
          "REB36     "
         ],
         "xaxis": "x",
         "y": [
          "1525 days "
         ],
         "yaxis": "y"
        },
        {
         "alignmentgroup": "True",
         "hovertemplate": "duree_entree_sortie=%{y}<br>Logement=%{x}<extra></extra>",
         "legendgroup": "925 days ",
         "marker": {
          "color": "#FFA15A"
         },
         "name": "925 days ",
         "offsetgroup": "925 days ",
         "orientation": "v",
         "showlegend": true,
         "textposition": "auto",
         "type": "bar",
         "x": [
          "REB13     "
         ],
         "xaxis": "x",
         "y": [
          "925 days "
         ],
         "yaxis": "y"
        },
        {
         "alignmentgroup": "True",
         "hovertemplate": "duree_entree_sortie=%{y}<br>Logement=%{x}<extra></extra>",
         "legendgroup": "4342 days ",
         "marker": {
          "color": "#19d3f3"
         },
         "name": "4342 days ",
         "offsetgroup": "4342 days ",
         "orientation": "v",
         "showlegend": true,
         "textposition": "auto",
         "type": "bar",
         "x": [
          "TERR7304"
         ],
         "xaxis": "x",
         "y": [
          "4342 days "
         ],
         "yaxis": "y"
        },
        {
         "alignmentgroup": "True",
         "hovertemplate": "duree_entree_sortie=%{y}<br>Logement=%{x}<extra></extra>",
         "legendgroup": "1802 days ",
         "marker": {
          "color": "#FF6692"
         },
         "name": "1802 days ",
         "offsetgroup": "1802 days ",
         "orientation": "v",
         "showlegend": true,
         "textposition": "auto",
         "type": "bar",
         "x": [
          "TERR7104"
         ],
         "xaxis": "x",
         "y": [
          "1802 days "
         ],
         "yaxis": "y"
        },
        {
         "alignmentgroup": "True",
         "hovertemplate": "duree_entree_sortie=%{y}<br>Logement=%{x}<extra></extra>",
         "legendgroup": "525 days ",
         "marker": {
          "color": "#B6E880"
         },
         "name": "525 days ",
         "offsetgroup": "525 days ",
         "orientation": "v",
         "showlegend": true,
         "textposition": "auto",
         "type": "bar",
         "x": [
          "HERB0008"
         ],
         "xaxis": "x",
         "y": [
          "525 days "
         ],
         "yaxis": "y"
        },
        {
         "alignmentgroup": "True",
         "hovertemplate": "duree_entree_sortie=%{y}<br>Logement=%{x}<extra></extra>",
         "legendgroup": "32 days ",
         "marker": {
          "color": "#FF97FF"
         },
         "name": "32 days ",
         "offsetgroup": "32 days ",
         "orientation": "v",
         "showlegend": true,
         "textposition": "auto",
         "type": "bar",
         "x": [
          "REA14     "
         ],
         "xaxis": "x",
         "y": [
          "32 days "
         ],
         "yaxis": "y"
        }
       ],
       "layout": {
        "barmode": "stack",
        "legend": {
         "title": {
          "text": "duree_entree_sortie"
         },
         "tracegroupgap": 0
        },
        "template": {
         "data": {
          "bar": [
           {
            "error_x": {
             "color": "#2a3f5f"
            },
            "error_y": {
             "color": "#2a3f5f"
            },
            "marker": {
             "line": {
              "color": "#E5ECF6",
              "width": 0.5
             }
            },
            "type": "bar"
           }
          ],
          "barpolar": [
           {
            "marker": {
             "line": {
              "color": "#E5ECF6",
              "width": 0.5
             }
            },
            "type": "barpolar"
           }
          ],
          "carpet": [
           {
            "aaxis": {
             "endlinecolor": "#2a3f5f",
             "gridcolor": "white",
             "linecolor": "white",
             "minorgridcolor": "white",
             "startlinecolor": "#2a3f5f"
            },
            "baxis": {
             "endlinecolor": "#2a3f5f",
             "gridcolor": "white",
             "linecolor": "white",
             "minorgridcolor": "white",
             "startlinecolor": "#2a3f5f"
            },
            "type": "carpet"
           }
          ],
          "choropleth": [
           {
            "colorbar": {
             "outlinewidth": 0,
             "ticks": ""
            },
            "type": "choropleth"
           }
          ],
          "contour": [
           {
            "colorbar": {
             "outlinewidth": 0,
             "ticks": ""
            },
            "colorscale": [
             [
              0,
              "#0d0887"
             ],
             [
              0.1111111111111111,
              "#46039f"
             ],
             [
              0.2222222222222222,
              "#7201a8"
             ],
             [
              0.3333333333333333,
              "#9c179e"
             ],
             [
              0.4444444444444444,
              "#bd3786"
             ],
             [
              0.5555555555555556,
              "#d8576b"
             ],
             [
              0.6666666666666666,
              "#ed7953"
             ],
             [
              0.7777777777777778,
              "#fb9f3a"
             ],
             [
              0.8888888888888888,
              "#fdca26"
             ],
             [
              1,
              "#f0f921"
             ]
            ],
            "type": "contour"
           }
          ],
          "contourcarpet": [
           {
            "colorbar": {
             "outlinewidth": 0,
             "ticks": ""
            },
            "type": "contourcarpet"
           }
          ],
          "heatmap": [
           {
            "colorbar": {
             "outlinewidth": 0,
             "ticks": ""
            },
            "colorscale": [
             [
              0,
              "#0d0887"
             ],
             [
              0.1111111111111111,
              "#46039f"
             ],
             [
              0.2222222222222222,
              "#7201a8"
             ],
             [
              0.3333333333333333,
              "#9c179e"
             ],
             [
              0.4444444444444444,
              "#bd3786"
             ],
             [
              0.5555555555555556,
              "#d8576b"
             ],
             [
              0.6666666666666666,
              "#ed7953"
             ],
             [
              0.7777777777777778,
              "#fb9f3a"
             ],
             [
              0.8888888888888888,
              "#fdca26"
             ],
             [
              1,
              "#f0f921"
             ]
            ],
            "type": "heatmap"
           }
          ],
          "heatmapgl": [
           {
            "colorbar": {
             "outlinewidth": 0,
             "ticks": ""
            },
            "colorscale": [
             [
              0,
              "#0d0887"
             ],
             [
              0.1111111111111111,
              "#46039f"
             ],
             [
              0.2222222222222222,
              "#7201a8"
             ],
             [
              0.3333333333333333,
              "#9c179e"
             ],
             [
              0.4444444444444444,
              "#bd3786"
             ],
             [
              0.5555555555555556,
              "#d8576b"
             ],
             [
              0.6666666666666666,
              "#ed7953"
             ],
             [
              0.7777777777777778,
              "#fb9f3a"
             ],
             [
              0.8888888888888888,
              "#fdca26"
             ],
             [
              1,
              "#f0f921"
             ]
            ],
            "type": "heatmapgl"
           }
          ],
          "histogram": [
           {
            "marker": {
             "colorbar": {
              "outlinewidth": 0,
              "ticks": ""
             }
            },
            "type": "histogram"
           }
          ],
          "histogram2d": [
           {
            "colorbar": {
             "outlinewidth": 0,
             "ticks": ""
            },
            "colorscale": [
             [
              0,
              "#0d0887"
             ],
             [
              0.1111111111111111,
              "#46039f"
             ],
             [
              0.2222222222222222,
              "#7201a8"
             ],
             [
              0.3333333333333333,
              "#9c179e"
             ],
             [
              0.4444444444444444,
              "#bd3786"
             ],
             [
              0.5555555555555556,
              "#d8576b"
             ],
             [
              0.6666666666666666,
              "#ed7953"
             ],
             [
              0.7777777777777778,
              "#fb9f3a"
             ],
             [
              0.8888888888888888,
              "#fdca26"
             ],
             [
              1,
              "#f0f921"
             ]
            ],
            "type": "histogram2d"
           }
          ],
          "histogram2dcontour": [
           {
            "colorbar": {
             "outlinewidth": 0,
             "ticks": ""
            },
            "colorscale": [
             [
              0,
              "#0d0887"
             ],
             [
              0.1111111111111111,
              "#46039f"
             ],
             [
              0.2222222222222222,
              "#7201a8"
             ],
             [
              0.3333333333333333,
              "#9c179e"
             ],
             [
              0.4444444444444444,
              "#bd3786"
             ],
             [
              0.5555555555555556,
              "#d8576b"
             ],
             [
              0.6666666666666666,
              "#ed7953"
             ],
             [
              0.7777777777777778,
              "#fb9f3a"
             ],
             [
              0.8888888888888888,
              "#fdca26"
             ],
             [
              1,
              "#f0f921"
             ]
            ],
            "type": "histogram2dcontour"
           }
          ],
          "mesh3d": [
           {
            "colorbar": {
             "outlinewidth": 0,
             "ticks": ""
            },
            "type": "mesh3d"
           }
          ],
          "parcoords": [
           {
            "line": {
             "colorbar": {
              "outlinewidth": 0,
              "ticks": ""
             }
            },
            "type": "parcoords"
           }
          ],
          "pie": [
           {
            "automargin": true,
            "type": "pie"
           }
          ],
          "scatter": [
           {
            "marker": {
             "colorbar": {
              "outlinewidth": 0,
              "ticks": ""
             }
            },
            "type": "scatter"
           }
          ],
          "scatter3d": [
           {
            "line": {
             "colorbar": {
              "outlinewidth": 0,
              "ticks": ""
             }
            },
            "marker": {
             "colorbar": {
              "outlinewidth": 0,
              "ticks": ""
             }
            },
            "type": "scatter3d"
           }
          ],
          "scattercarpet": [
           {
            "marker": {
             "colorbar": {
              "outlinewidth": 0,
              "ticks": ""
             }
            },
            "type": "scattercarpet"
           }
          ],
          "scattergeo": [
           {
            "marker": {
             "colorbar": {
              "outlinewidth": 0,
              "ticks": ""
             }
            },
            "type": "scattergeo"
           }
          ],
          "scattergl": [
           {
            "marker": {
             "colorbar": {
              "outlinewidth": 0,
              "ticks": ""
             }
            },
            "type": "scattergl"
           }
          ],
          "scattermapbox": [
           {
            "marker": {
             "colorbar": {
              "outlinewidth": 0,
              "ticks": ""
             }
            },
            "type": "scattermapbox"
           }
          ],
          "scatterpolar": [
           {
            "marker": {
             "colorbar": {
              "outlinewidth": 0,
              "ticks": ""
             }
            },
            "type": "scatterpolar"
           }
          ],
          "scatterpolargl": [
           {
            "marker": {
             "colorbar": {
              "outlinewidth": 0,
              "ticks": ""
             }
            },
            "type": "scatterpolargl"
           }
          ],
          "scatterternary": [
           {
            "marker": {
             "colorbar": {
              "outlinewidth": 0,
              "ticks": ""
             }
            },
            "type": "scatterternary"
           }
          ],
          "surface": [
           {
            "colorbar": {
             "outlinewidth": 0,
             "ticks": ""
            },
            "colorscale": [
             [
              0,
              "#0d0887"
             ],
             [
              0.1111111111111111,
              "#46039f"
             ],
             [
              0.2222222222222222,
              "#7201a8"
             ],
             [
              0.3333333333333333,
              "#9c179e"
             ],
             [
              0.4444444444444444,
              "#bd3786"
             ],
             [
              0.5555555555555556,
              "#d8576b"
             ],
             [
              0.6666666666666666,
              "#ed7953"
             ],
             [
              0.7777777777777778,
              "#fb9f3a"
             ],
             [
              0.8888888888888888,
              "#fdca26"
             ],
             [
              1,
              "#f0f921"
             ]
            ],
            "type": "surface"
           }
          ],
          "table": [
           {
            "cells": {
             "fill": {
              "color": "#EBF0F8"
             },
             "line": {
              "color": "white"
             }
            },
            "header": {
             "fill": {
              "color": "#C8D4E3"
             },
             "line": {
              "color": "white"
             }
            },
            "type": "table"
           }
          ]
         },
         "layout": {
          "annotationdefaults": {
           "arrowcolor": "#2a3f5f",
           "arrowhead": 0,
           "arrowwidth": 1
          },
          "autotypenumbers": "strict",
          "coloraxis": {
           "colorbar": {
            "outlinewidth": 0,
            "ticks": ""
           }
          },
          "colorscale": {
           "diverging": [
            [
             0,
             "#8e0152"
            ],
            [
             0.1,
             "#c51b7d"
            ],
            [
             0.2,
             "#de77ae"
            ],
            [
             0.3,
             "#f1b6da"
            ],
            [
             0.4,
             "#fde0ef"
            ],
            [
             0.5,
             "#f7f7f7"
            ],
            [
             0.6,
             "#e6f5d0"
            ],
            [
             0.7,
             "#b8e186"
            ],
            [
             0.8,
             "#7fbc41"
            ],
            [
             0.9,
             "#4d9221"
            ],
            [
             1,
             "#276419"
            ]
           ],
           "sequential": [
            [
             0,
             "#0d0887"
            ],
            [
             0.1111111111111111,
             "#46039f"
            ],
            [
             0.2222222222222222,
             "#7201a8"
            ],
            [
             0.3333333333333333,
             "#9c179e"
            ],
            [
             0.4444444444444444,
             "#bd3786"
            ],
            [
             0.5555555555555556,
             "#d8576b"
            ],
            [
             0.6666666666666666,
             "#ed7953"
            ],
            [
             0.7777777777777778,
             "#fb9f3a"
            ],
            [
             0.8888888888888888,
             "#fdca26"
            ],
            [
             1,
             "#f0f921"
            ]
           ],
           "sequentialminus": [
            [
             0,
             "#0d0887"
            ],
            [
             0.1111111111111111,
             "#46039f"
            ],
            [
             0.2222222222222222,
             "#7201a8"
            ],
            [
             0.3333333333333333,
             "#9c179e"
            ],
            [
             0.4444444444444444,
             "#bd3786"
            ],
            [
             0.5555555555555556,
             "#d8576b"
            ],
            [
             0.6666666666666666,
             "#ed7953"
            ],
            [
             0.7777777777777778,
             "#fb9f3a"
            ],
            [
             0.8888888888888888,
             "#fdca26"
            ],
            [
             1,
             "#f0f921"
            ]
           ]
          },
          "colorway": [
           "#636efa",
           "#EF553B",
           "#00cc96",
           "#ab63fa",
           "#FFA15A",
           "#19d3f3",
           "#FF6692",
           "#B6E880",
           "#FF97FF",
           "#FECB52"
          ],
          "font": {
           "color": "#2a3f5f"
          },
          "geo": {
           "bgcolor": "white",
           "lakecolor": "white",
           "landcolor": "#E5ECF6",
           "showlakes": true,
           "showland": true,
           "subunitcolor": "white"
          },
          "hoverlabel": {
           "align": "left"
          },
          "hovermode": "closest",
          "mapbox": {
           "style": "light"
          },
          "paper_bgcolor": "white",
          "plot_bgcolor": "#E5ECF6",
          "polar": {
           "angularaxis": {
            "gridcolor": "white",
            "linecolor": "white",
            "ticks": ""
           },
           "bgcolor": "#E5ECF6",
           "radialaxis": {
            "gridcolor": "white",
            "linecolor": "white",
            "ticks": ""
           }
          },
          "scene": {
           "xaxis": {
            "backgroundcolor": "#E5ECF6",
            "gridcolor": "white",
            "gridwidth": 2,
            "linecolor": "white",
            "showbackground": true,
            "ticks": "",
            "zerolinecolor": "white"
           },
           "yaxis": {
            "backgroundcolor": "#E5ECF6",
            "gridcolor": "white",
            "gridwidth": 2,
            "linecolor": "white",
            "showbackground": true,
            "ticks": "",
            "zerolinecolor": "white"
           },
           "zaxis": {
            "backgroundcolor": "#E5ECF6",
            "gridcolor": "white",
            "gridwidth": 2,
            "linecolor": "white",
            "showbackground": true,
            "ticks": "",
            "zerolinecolor": "white"
           }
          },
          "shapedefaults": {
           "line": {
            "color": "#2a3f5f"
           }
          },
          "ternary": {
           "aaxis": {
            "gridcolor": "white",
            "linecolor": "white",
            "ticks": ""
           },
           "baxis": {
            "gridcolor": "white",
            "linecolor": "white",
            "ticks": ""
           },
           "bgcolor": "#E5ECF6",
           "caxis": {
            "gridcolor": "white",
            "linecolor": "white",
            "ticks": ""
           }
          },
          "title": {
           "x": 0.05
          },
          "xaxis": {
           "automargin": true,
           "gridcolor": "white",
           "linecolor": "white",
           "ticks": "",
           "title": {
            "standoff": 15
           },
           "zerolinecolor": "white",
           "zerolinewidth": 2
          },
          "yaxis": {
           "automargin": true,
           "gridcolor": "white",
           "linecolor": "white",
           "ticks": "",
           "title": {
            "standoff": 15
           },
           "zerolinecolor": "white",
           "zerolinewidth": 2
          }
         }
        },
        "title": {
         "text": "durée entrée sortie de Logements"
        },
        "xaxis": {
         "anchor": "y",
         "domain": [
          0,
          1
         ],
         "title": {
          "text": "Logement"
         }
        },
        "yaxis": {
         "anchor": "x",
         "categoryarray": [
          "32 days ",
          "525 days ",
          "1802 days ",
          "4342 days ",
          "925 days ",
          "1525 days ",
          "961 days ",
          "1402 days ",
          "242 days ",
          "2622 days ",
          "1795 days",
          "794 days ",
          "664 days ",
          "14 days ",
          "1420 days ",
          "729 days ",
          "732 days ",
          "732 days",
          "457 days ",
          "312 days ",
          "10 days ",
          "767 days ",
          "522 days ",
          "760 days ",
          "71 days ",
          "627 days ",
          "24 days ",
          "43 days ",
          "634 days ",
          "91 days ",
          "18 days ",
          "401 days ",
          "15 days ",
          "220 days ",
          "337 days ",
          "354 days ",
          "221 days ",
          "48 days ",
          "89 days ",
          "584 days ",
          "1095 days ",
          "1323 days ",
          "853 days ",
          "23 days ",
          "1 days ",
          "189 days ",
          "556 days ",
          "4369 days",
          "490 days "
         ],
         "categoryorder": "array",
         "domain": [
          0,
          1
         ],
         "title": {
          "text": "duree_entree_sortie"
         }
        }
       }
      },
      "text/html": [
       "<div>                            <div id=\"7ce19411-b981-4383-ac82-7ec63a3933d5\" class=\"plotly-graph-div\" style=\"height:525px; width:100%;\"></div>            <script type=\"text/javascript\">                require([\"plotly\"], function(Plotly) {                    window.PLOTLYENV=window.PLOTLYENV || {};                                    if (document.getElementById(\"7ce19411-b981-4383-ac82-7ec63a3933d5\")) {                    Plotly.newPlot(                        \"7ce19411-b981-4383-ac82-7ec63a3933d5\",                        [{\"alignmentgroup\": \"True\", \"hovertemplate\": \"duree_entree_sortie=%{y}<br>Logement=%{x}<extra></extra>\", \"legendgroup\": \"490 days \", \"marker\": {\"color\": \"#636efa\"}, \"name\": \"490 days \", \"offsetgroup\": \"490 days \", \"orientation\": \"v\", \"showlegend\": true, \"textposition\": \"auto\", \"type\": \"bar\", \"x\": [\"REB45     \"], \"xaxis\": \"x\", \"y\": [\"490 days \"], \"yaxis\": \"y\"}, {\"alignmentgroup\": \"True\", \"hovertemplate\": \"duree_entree_sortie=%{y}<br>Logement=%{x}<extra></extra>\", \"legendgroup\": \"4369 days\", \"marker\": {\"color\": \"#EF553B\"}, \"name\": \"4369 days\", \"offsetgroup\": \"4369 days\", \"orientation\": \"v\", \"showlegend\": true, \"textposition\": \"auto\", \"type\": \"bar\", \"x\": [\"REA74     \"], \"xaxis\": \"x\", \"y\": [\"4369 days\"], \"yaxis\": \"y\"}, {\"alignmentgroup\": \"True\", \"hovertemplate\": \"duree_entree_sortie=%{y}<br>Logement=%{x}<extra></extra>\", \"legendgroup\": \"556 days \", \"marker\": {\"color\": \"#00cc96\"}, \"name\": \"556 days \", \"offsetgroup\": \"556 days \", \"orientation\": \"v\", \"showlegend\": true, \"textposition\": \"auto\", \"type\": \"bar\", \"x\": [\"TERR7204\"], \"xaxis\": \"x\", \"y\": [\"556 days \"], \"yaxis\": \"y\"}, {\"alignmentgroup\": \"True\", \"hovertemplate\": \"duree_entree_sortie=%{y}<br>Logement=%{x}<extra></extra>\", \"legendgroup\": \"189 days \", \"marker\": {\"color\": \"#ab63fa\"}, \"name\": \"189 days \", \"offsetgroup\": \"189 days \", \"orientation\": \"v\", \"showlegend\": true, \"textposition\": \"auto\", \"type\": \"bar\", \"x\": [\"REA34     \"], \"xaxis\": \"x\", \"y\": [\"189 days \"], \"yaxis\": \"y\"}, {\"alignmentgroup\": \"True\", \"hovertemplate\": \"duree_entree_sortie=%{y}<br>Logement=%{x}<extra></extra>\", \"legendgroup\": \"1 days \", \"marker\": {\"color\": \"#FFA15A\"}, \"name\": \"1 days \", \"offsetgroup\": \"1 days \", \"orientation\": \"v\", \"showlegend\": true, \"textposition\": \"auto\", \"type\": \"bar\", \"x\": [\"REA18     \"], \"xaxis\": \"x\", \"y\": [\"1 days \"], \"yaxis\": \"y\"}, {\"alignmentgroup\": \"True\", \"hovertemplate\": \"duree_entree_sortie=%{y}<br>Logement=%{x}<extra></extra>\", \"legendgroup\": \"23 days \", \"marker\": {\"color\": \"#19d3f3\"}, \"name\": \"23 days \", \"offsetgroup\": \"23 days \", \"orientation\": \"v\", \"showlegend\": true, \"textposition\": \"auto\", \"type\": \"bar\", \"x\": [\"REA18     \", \"REA21     \"], \"xaxis\": \"x\", \"y\": [\"23 days \", \"23 days \"], \"yaxis\": \"y\"}, {\"alignmentgroup\": \"True\", \"hovertemplate\": \"duree_entree_sortie=%{y}<br>Logement=%{x}<extra></extra>\", \"legendgroup\": \"853 days \", \"marker\": {\"color\": \"#FF6692\"}, \"name\": \"853 days \", \"offsetgroup\": \"853 days \", \"orientation\": \"v\", \"showlegend\": true, \"textposition\": \"auto\", \"type\": \"bar\", \"x\": [\"REA56     \"], \"xaxis\": \"x\", \"y\": [\"853 days \"], \"yaxis\": \"y\"}, {\"alignmentgroup\": \"True\", \"hovertemplate\": \"duree_entree_sortie=%{y}<br>Logement=%{x}<extra></extra>\", \"legendgroup\": \"1323 days \", \"marker\": {\"color\": \"#B6E880\"}, \"name\": \"1323 days \", \"offsetgroup\": \"1323 days \", \"orientation\": \"v\", \"showlegend\": true, \"textposition\": \"auto\", \"type\": \"bar\", \"x\": [\"REA23     \"], \"xaxis\": \"x\", \"y\": [\"1323 days \"], \"yaxis\": \"y\"}, {\"alignmentgroup\": \"True\", \"hovertemplate\": \"duree_entree_sortie=%{y}<br>Logement=%{x}<extra></extra>\", \"legendgroup\": \"1095 days \", \"marker\": {\"color\": \"#FF97FF\"}, \"name\": \"1095 days \", \"offsetgroup\": \"1095 days \", \"orientation\": \"v\", \"showlegend\": true, \"textposition\": \"auto\", \"type\": \"bar\", \"x\": [\"26VO0221\"], \"xaxis\": \"x\", \"y\": [\"1095 days \"], \"yaxis\": \"y\"}, {\"alignmentgroup\": \"True\", \"hovertemplate\": \"duree_entree_sortie=%{y}<br>Logement=%{x}<extra></extra>\", \"legendgroup\": \"584 days \", \"marker\": {\"color\": \"#FECB52\"}, \"name\": \"584 days \", \"offsetgroup\": \"584 days \", \"orientation\": \"v\", \"showlegend\": true, \"textposition\": \"auto\", \"type\": \"bar\", \"x\": [\"REB31     \"], \"xaxis\": \"x\", \"y\": [\"584 days \"], \"yaxis\": \"y\"}, {\"alignmentgroup\": \"True\", \"hovertemplate\": \"duree_entree_sortie=%{y}<br>Logement=%{x}<extra></extra>\", \"legendgroup\": \"89 days \", \"marker\": {\"color\": \"#636efa\"}, \"name\": \"89 days \", \"offsetgroup\": \"89 days \", \"orientation\": \"v\", \"showlegend\": true, \"textposition\": \"auto\", \"type\": \"bar\", \"x\": [\"RERH4     \"], \"xaxis\": \"x\", \"y\": [\"89 days \"], \"yaxis\": \"y\"}, {\"alignmentgroup\": \"True\", \"hovertemplate\": \"duree_entree_sortie=%{y}<br>Logement=%{x}<extra></extra>\", \"legendgroup\": \"48 days \", \"marker\": {\"color\": \"#EF553B\"}, \"name\": \"48 days \", \"offsetgroup\": \"48 days \", \"orientation\": \"v\", \"showlegend\": true, \"textposition\": \"auto\", \"type\": \"bar\", \"x\": [\"REA16     \"], \"xaxis\": \"x\", \"y\": [\"48 days \"], \"yaxis\": \"y\"}, {\"alignmentgroup\": \"True\", \"hovertemplate\": \"duree_entree_sortie=%{y}<br>Logement=%{x}<extra></extra>\", \"legendgroup\": \"221 days \", \"marker\": {\"color\": \"#00cc96\"}, \"name\": \"221 days \", \"offsetgroup\": \"221 days \", \"orientation\": \"v\", \"showlegend\": true, \"textposition\": \"auto\", \"type\": \"bar\", \"x\": [\"REA22\", \"26VO0158\"], \"xaxis\": \"x\", \"y\": [\"221 days \", \"221 days \"], \"yaxis\": \"y\"}, {\"alignmentgroup\": \"True\", \"hovertemplate\": \"duree_entree_sortie=%{y}<br>Logement=%{x}<extra></extra>\", \"legendgroup\": \"354 days \", \"marker\": {\"color\": \"#ab63fa\"}, \"name\": \"354 days \", \"offsetgroup\": \"354 days \", \"orientation\": \"v\", \"showlegend\": true, \"textposition\": \"auto\", \"type\": \"bar\", \"x\": [\"REA12     \"], \"xaxis\": \"x\", \"y\": [\"354 days \"], \"yaxis\": \"y\"}, {\"alignmentgroup\": \"True\", \"hovertemplate\": \"duree_entree_sortie=%{y}<br>Logement=%{x}<extra></extra>\", \"legendgroup\": \"337 days \", \"marker\": {\"color\": \"#FFA15A\"}, \"name\": \"337 days \", \"offsetgroup\": \"337 days \", \"orientation\": \"v\", \"showlegend\": true, \"textposition\": \"auto\", \"type\": \"bar\", \"x\": [\"REA16\"], \"xaxis\": \"x\", \"y\": [\"337 days \"], \"yaxis\": \"y\"}, {\"alignmentgroup\": \"True\", \"hovertemplate\": \"duree_entree_sortie=%{y}<br>Logement=%{x}<extra></extra>\", \"legendgroup\": \"220 days \", \"marker\": {\"color\": \"#19d3f3\"}, \"name\": \"220 days \", \"offsetgroup\": \"220 days \", \"orientation\": \"v\", \"showlegend\": true, \"textposition\": \"auto\", \"type\": \"bar\", \"x\": [\"REA42\"], \"xaxis\": \"x\", \"y\": [\"220 days \"], \"yaxis\": \"y\"}, {\"alignmentgroup\": \"True\", \"hovertemplate\": \"duree_entree_sortie=%{y}<br>Logement=%{x}<extra></extra>\", \"legendgroup\": \"15 days \", \"marker\": {\"color\": \"#FF6692\"}, \"name\": \"15 days \", \"offsetgroup\": \"15 days \", \"orientation\": \"v\", \"showlegend\": true, \"textposition\": \"auto\", \"type\": \"bar\", \"x\": [\"REA11     \"], \"xaxis\": \"x\", \"y\": [\"15 days \"], \"yaxis\": \"y\"}, {\"alignmentgroup\": \"True\", \"hovertemplate\": \"duree_entree_sortie=%{y}<br>Logement=%{x}<extra></extra>\", \"legendgroup\": \"401 days \", \"marker\": {\"color\": \"#B6E880\"}, \"name\": \"401 days \", \"offsetgroup\": \"401 days \", \"orientation\": \"v\", \"showlegend\": true, \"textposition\": \"auto\", \"type\": \"bar\", \"x\": [\"REA34     \", \"REA25\"], \"xaxis\": \"x\", \"y\": [\"401 days \", \"401 days \"], \"yaxis\": \"y\"}, {\"alignmentgroup\": \"True\", \"hovertemplate\": \"duree_entree_sortie=%{y}<br>Logement=%{x}<extra></extra>\", \"legendgroup\": \"18 days \", \"marker\": {\"color\": \"#FF97FF\"}, \"name\": \"18 days \", \"offsetgroup\": \"18 days \", \"orientation\": \"v\", \"showlegend\": true, \"textposition\": \"auto\", \"type\": \"bar\", \"x\": [\"REA15     \"], \"xaxis\": \"x\", \"y\": [\"18 days \"], \"yaxis\": \"y\"}, {\"alignmentgroup\": \"True\", \"hovertemplate\": \"duree_entree_sortie=%{y}<br>Logement=%{x}<extra></extra>\", \"legendgroup\": \"91 days \", \"marker\": {\"color\": \"#FECB52\"}, \"name\": \"91 days \", \"offsetgroup\": \"91 days \", \"orientation\": \"v\", \"showlegend\": true, \"textposition\": \"auto\", \"type\": \"bar\", \"x\": [\"REA37     \"], \"xaxis\": \"x\", \"y\": [\"91 days \"], \"yaxis\": \"y\"}, {\"alignmentgroup\": \"True\", \"hovertemplate\": \"duree_entree_sortie=%{y}<br>Logement=%{x}<extra></extra>\", \"legendgroup\": \"634 days \", \"marker\": {\"color\": \"#636efa\"}, \"name\": \"634 days \", \"offsetgroup\": \"634 days \", \"orientation\": \"v\", \"showlegend\": true, \"textposition\": \"auto\", \"type\": \"bar\", \"x\": [\"REB14     \"], \"xaxis\": \"x\", \"y\": [\"634 days \"], \"yaxis\": \"y\"}, {\"alignmentgroup\": \"True\", \"hovertemplate\": \"duree_entree_sortie=%{y}<br>Logement=%{x}<extra></extra>\", \"legendgroup\": \"43 days \", \"marker\": {\"color\": \"#EF553B\"}, \"name\": \"43 days \", \"offsetgroup\": \"43 days \", \"orientation\": \"v\", \"showlegend\": true, \"textposition\": \"auto\", \"type\": \"bar\", \"x\": [\"RERH6\"], \"xaxis\": \"x\", \"y\": [\"43 days \"], \"yaxis\": \"y\"}, {\"alignmentgroup\": \"True\", \"hovertemplate\": \"duree_entree_sortie=%{y}<br>Logement=%{x}<extra></extra>\", \"legendgroup\": \"24 days \", \"marker\": {\"color\": \"#00cc96\"}, \"name\": \"24 days \", \"offsetgroup\": \"24 days \", \"orientation\": \"v\", \"showlegend\": true, \"textposition\": \"auto\", \"type\": \"bar\", \"x\": [\"REA15     \"], \"xaxis\": \"x\", \"y\": [\"24 days \"], \"yaxis\": \"y\"}, {\"alignmentgroup\": \"True\", \"hovertemplate\": \"duree_entree_sortie=%{y}<br>Logement=%{x}<extra></extra>\", \"legendgroup\": \"627 days \", \"marker\": {\"color\": \"#ab63fa\"}, \"name\": \"627 days \", \"offsetgroup\": \"627 days \", \"orientation\": \"v\", \"showlegend\": true, \"textposition\": \"auto\", \"type\": \"bar\", \"x\": [\"REA33     \"], \"xaxis\": \"x\", \"y\": [\"627 days \"], \"yaxis\": \"y\"}, {\"alignmentgroup\": \"True\", \"hovertemplate\": \"duree_entree_sortie=%{y}<br>Logement=%{x}<extra></extra>\", \"legendgroup\": \"71 days \", \"marker\": {\"color\": \"#FFA15A\"}, \"name\": \"71 days \", \"offsetgroup\": \"71 days \", \"orientation\": \"v\", \"showlegend\": true, \"textposition\": \"auto\", \"type\": \"bar\", \"x\": [\"REA14     \"], \"xaxis\": \"x\", \"y\": [\"71 days \"], \"yaxis\": \"y\"}, {\"alignmentgroup\": \"True\", \"hovertemplate\": \"duree_entree_sortie=%{y}<br>Logement=%{x}<extra></extra>\", \"legendgroup\": \"760 days \", \"marker\": {\"color\": \"#19d3f3\"}, \"name\": \"760 days \", \"offsetgroup\": \"760 days \", \"orientation\": \"v\", \"showlegend\": true, \"textposition\": \"auto\", \"type\": \"bar\", \"x\": [\"REB43     \"], \"xaxis\": \"x\", \"y\": [\"760 days \"], \"yaxis\": \"y\"}, {\"alignmentgroup\": \"True\", \"hovertemplate\": \"duree_entree_sortie=%{y}<br>Logement=%{x}<extra></extra>\", \"legendgroup\": \"522 days \", \"marker\": {\"color\": \"#FF6692\"}, \"name\": \"522 days \", \"offsetgroup\": \"522 days \", \"orientation\": \"v\", \"showlegend\": true, \"textposition\": \"auto\", \"type\": \"bar\", \"x\": [\"REA66     \"], \"xaxis\": \"x\", \"y\": [\"522 days \"], \"yaxis\": \"y\"}, {\"alignmentgroup\": \"True\", \"hovertemplate\": \"duree_entree_sortie=%{y}<br>Logement=%{x}<extra></extra>\", \"legendgroup\": \"767 days \", \"marker\": {\"color\": \"#B6E880\"}, \"name\": \"767 days \", \"offsetgroup\": \"767 days \", \"orientation\": \"v\", \"showlegend\": true, \"textposition\": \"auto\", \"type\": \"bar\", \"x\": [\"REB41     \"], \"xaxis\": \"x\", \"y\": [\"767 days \"], \"yaxis\": \"y\"}, {\"alignmentgroup\": \"True\", \"hovertemplate\": \"duree_entree_sortie=%{y}<br>Logement=%{x}<extra></extra>\", \"legendgroup\": \"10 days \", \"marker\": {\"color\": \"#FF97FF\"}, \"name\": \"10 days \", \"offsetgroup\": \"10 days \", \"orientation\": \"v\", \"showlegend\": true, \"textposition\": \"auto\", \"type\": \"bar\", \"x\": [\"REA21     \"], \"xaxis\": \"x\", \"y\": [\"10 days \"], \"yaxis\": \"y\"}, {\"alignmentgroup\": \"True\", \"hovertemplate\": \"duree_entree_sortie=%{y}<br>Logement=%{x}<extra></extra>\", \"legendgroup\": \"312 days \", \"marker\": {\"color\": \"#FECB52\"}, \"name\": \"312 days \", \"offsetgroup\": \"312 days \", \"orientation\": \"v\", \"showlegend\": true, \"textposition\": \"auto\", \"type\": \"bar\", \"x\": [\"REB44     \"], \"xaxis\": \"x\", \"y\": [\"312 days \"], \"yaxis\": \"y\"}, {\"alignmentgroup\": \"True\", \"hovertemplate\": \"duree_entree_sortie=%{y}<br>Logement=%{x}<extra></extra>\", \"legendgroup\": \"457 days \", \"marker\": {\"color\": \"#636efa\"}, \"name\": \"457 days \", \"offsetgroup\": \"457 days \", \"orientation\": \"v\", \"showlegend\": true, \"textposition\": \"auto\", \"type\": \"bar\", \"x\": [\"REB16     \"], \"xaxis\": \"x\", \"y\": [\"457 days \"], \"yaxis\": \"y\"}, {\"alignmentgroup\": \"True\", \"hovertemplate\": \"duree_entree_sortie=%{y}<br>Logement=%{x}<extra></extra>\", \"legendgroup\": \"732 days\", \"marker\": {\"color\": \"#EF553B\"}, \"name\": \"732 days\", \"offsetgroup\": \"732 days\", \"orientation\": \"v\", \"showlegend\": true, \"textposition\": \"auto\", \"type\": \"bar\", \"x\": [\"Null\"], \"xaxis\": \"x\", \"y\": [\"732 days\"], \"yaxis\": \"y\"}, {\"alignmentgroup\": \"True\", \"hovertemplate\": \"duree_entree_sortie=%{y}<br>Logement=%{x}<extra></extra>\", \"legendgroup\": \"732 days \", \"marker\": {\"color\": \"#00cc96\"}, \"name\": \"732 days \", \"offsetgroup\": \"732 days \", \"orientation\": \"v\", \"showlegend\": true, \"textposition\": \"auto\", \"type\": \"bar\", \"x\": [\"Null\"], \"xaxis\": \"x\", \"y\": [\"732 days \"], \"yaxis\": \"y\"}, {\"alignmentgroup\": \"True\", \"hovertemplate\": \"duree_entree_sortie=%{y}<br>Logement=%{x}<extra></extra>\", \"legendgroup\": \"729 days \", \"marker\": {\"color\": \"#ab63fa\"}, \"name\": \"729 days \", \"offsetgroup\": \"729 days \", \"orientation\": \"v\", \"showlegend\": true, \"textposition\": \"auto\", \"type\": \"bar\", \"x\": [\"REA58     \"], \"xaxis\": \"x\", \"y\": [\"729 days \"], \"yaxis\": \"y\"}, {\"alignmentgroup\": \"True\", \"hovertemplate\": \"duree_entree_sortie=%{y}<br>Logement=%{x}<extra></extra>\", \"legendgroup\": \"1420 days \", \"marker\": {\"color\": \"#FFA15A\"}, \"name\": \"1420 days \", \"offsetgroup\": \"1420 days \", \"orientation\": \"v\", \"showlegend\": true, \"textposition\": \"auto\", \"type\": \"bar\", \"x\": [\"REA44     \"], \"xaxis\": \"x\", \"y\": [\"1420 days \"], \"yaxis\": \"y\"}, {\"alignmentgroup\": \"True\", \"hovertemplate\": \"duree_entree_sortie=%{y}<br>Logement=%{x}<extra></extra>\", \"legendgroup\": \"14 days \", \"marker\": {\"color\": \"#19d3f3\"}, \"name\": \"14 days \", \"offsetgroup\": \"14 days \", \"orientation\": \"v\", \"showlegend\": true, \"textposition\": \"auto\", \"type\": \"bar\", \"x\": [\"REA15     \"], \"xaxis\": \"x\", \"y\": [\"14 days \"], \"yaxis\": \"y\"}, {\"alignmentgroup\": \"True\", \"hovertemplate\": \"duree_entree_sortie=%{y}<br>Logement=%{x}<extra></extra>\", \"legendgroup\": \"664 days \", \"marker\": {\"color\": \"#FF6692\"}, \"name\": \"664 days \", \"offsetgroup\": \"664 days \", \"orientation\": \"v\", \"showlegend\": true, \"textposition\": \"auto\", \"type\": \"bar\", \"x\": [\"REA55     \"], \"xaxis\": \"x\", \"y\": [\"664 days \"], \"yaxis\": \"y\"}, {\"alignmentgroup\": \"True\", \"hovertemplate\": \"duree_entree_sortie=%{y}<br>Logement=%{x}<extra></extra>\", \"legendgroup\": \"794 days \", \"marker\": {\"color\": \"#B6E880\"}, \"name\": \"794 days \", \"offsetgroup\": \"794 days \", \"orientation\": \"v\", \"showlegend\": true, \"textposition\": \"auto\", \"type\": \"bar\", \"x\": [\"TERR7104\"], \"xaxis\": \"x\", \"y\": [\"794 days \"], \"yaxis\": \"y\"}, {\"alignmentgroup\": \"True\", \"hovertemplate\": \"duree_entree_sortie=%{y}<br>Logement=%{x}<extra></extra>\", \"legendgroup\": \"1795 days\", \"marker\": {\"color\": \"#FF97FF\"}, \"name\": \"1795 days\", \"offsetgroup\": \"1795 days\", \"orientation\": \"v\", \"showlegend\": true, \"textposition\": \"auto\", \"type\": \"bar\", \"x\": [\"CLO10018\"], \"xaxis\": \"x\", \"y\": [\"1795 days\"], \"yaxis\": \"y\"}, {\"alignmentgroup\": \"True\", \"hovertemplate\": \"duree_entree_sortie=%{y}<br>Logement=%{x}<extra></extra>\", \"legendgroup\": \"2622 days \", \"marker\": {\"color\": \"#FECB52\"}, \"name\": \"2622 days \", \"offsetgroup\": \"2622 days \", \"orientation\": \"v\", \"showlegend\": true, \"textposition\": \"auto\", \"type\": \"bar\", \"x\": [\"REB25     \"], \"xaxis\": \"x\", \"y\": [\"2622 days \"], \"yaxis\": \"y\"}, {\"alignmentgroup\": \"True\", \"hovertemplate\": \"duree_entree_sortie=%{y}<br>Logement=%{x}<extra></extra>\", \"legendgroup\": \"242 days \", \"marker\": {\"color\": \"#636efa\"}, \"name\": \"242 days \", \"offsetgroup\": \"242 days \", \"orientation\": \"v\", \"showlegend\": true, \"textposition\": \"auto\", \"type\": \"bar\", \"x\": [\"REA42\"], \"xaxis\": \"x\", \"y\": [\"242 days \"], \"yaxis\": \"y\"}, {\"alignmentgroup\": \"True\", \"hovertemplate\": \"duree_entree_sortie=%{y}<br>Logement=%{x}<extra></extra>\", \"legendgroup\": \"1402 days \", \"marker\": {\"color\": \"#EF553B\"}, \"name\": \"1402 days \", \"offsetgroup\": \"1402 days \", \"orientation\": \"v\", \"showlegend\": true, \"textposition\": \"auto\", \"type\": \"bar\", \"x\": [\"HERB0003\"], \"xaxis\": \"x\", \"y\": [\"1402 days \"], \"yaxis\": \"y\"}, {\"alignmentgroup\": \"True\", \"hovertemplate\": \"duree_entree_sortie=%{y}<br>Logement=%{x}<extra></extra>\", \"legendgroup\": \"961 days \", \"marker\": {\"color\": \"#00cc96\"}, \"name\": \"961 days \", \"offsetgroup\": \"961 days \", \"orientation\": \"v\", \"showlegend\": true, \"textposition\": \"auto\", \"type\": \"bar\", \"x\": [\"REB26     \"], \"xaxis\": \"x\", \"y\": [\"961 days \"], \"yaxis\": \"y\"}, {\"alignmentgroup\": \"True\", \"hovertemplate\": \"duree_entree_sortie=%{y}<br>Logement=%{x}<extra></extra>\", \"legendgroup\": \"1525 days \", \"marker\": {\"color\": \"#ab63fa\"}, \"name\": \"1525 days \", \"offsetgroup\": \"1525 days \", \"orientation\": \"v\", \"showlegend\": true, \"textposition\": \"auto\", \"type\": \"bar\", \"x\": [\"REB36     \"], \"xaxis\": \"x\", \"y\": [\"1525 days \"], \"yaxis\": \"y\"}, {\"alignmentgroup\": \"True\", \"hovertemplate\": \"duree_entree_sortie=%{y}<br>Logement=%{x}<extra></extra>\", \"legendgroup\": \"925 days \", \"marker\": {\"color\": \"#FFA15A\"}, \"name\": \"925 days \", \"offsetgroup\": \"925 days \", \"orientation\": \"v\", \"showlegend\": true, \"textposition\": \"auto\", \"type\": \"bar\", \"x\": [\"REB13     \"], \"xaxis\": \"x\", \"y\": [\"925 days \"], \"yaxis\": \"y\"}, {\"alignmentgroup\": \"True\", \"hovertemplate\": \"duree_entree_sortie=%{y}<br>Logement=%{x}<extra></extra>\", \"legendgroup\": \"4342 days \", \"marker\": {\"color\": \"#19d3f3\"}, \"name\": \"4342 days \", \"offsetgroup\": \"4342 days \", \"orientation\": \"v\", \"showlegend\": true, \"textposition\": \"auto\", \"type\": \"bar\", \"x\": [\"TERR7304\"], \"xaxis\": \"x\", \"y\": [\"4342 days \"], \"yaxis\": \"y\"}, {\"alignmentgroup\": \"True\", \"hovertemplate\": \"duree_entree_sortie=%{y}<br>Logement=%{x}<extra></extra>\", \"legendgroup\": \"1802 days \", \"marker\": {\"color\": \"#FF6692\"}, \"name\": \"1802 days \", \"offsetgroup\": \"1802 days \", \"orientation\": \"v\", \"showlegend\": true, \"textposition\": \"auto\", \"type\": \"bar\", \"x\": [\"TERR7104\"], \"xaxis\": \"x\", \"y\": [\"1802 days \"], \"yaxis\": \"y\"}, {\"alignmentgroup\": \"True\", \"hovertemplate\": \"duree_entree_sortie=%{y}<br>Logement=%{x}<extra></extra>\", \"legendgroup\": \"525 days \", \"marker\": {\"color\": \"#B6E880\"}, \"name\": \"525 days \", \"offsetgroup\": \"525 days \", \"orientation\": \"v\", \"showlegend\": true, \"textposition\": \"auto\", \"type\": \"bar\", \"x\": [\"HERB0008\"], \"xaxis\": \"x\", \"y\": [\"525 days \"], \"yaxis\": \"y\"}, {\"alignmentgroup\": \"True\", \"hovertemplate\": \"duree_entree_sortie=%{y}<br>Logement=%{x}<extra></extra>\", \"legendgroup\": \"32 days \", \"marker\": {\"color\": \"#FF97FF\"}, \"name\": \"32 days \", \"offsetgroup\": \"32 days \", \"orientation\": \"v\", \"showlegend\": true, \"textposition\": \"auto\", \"type\": \"bar\", \"x\": [\"REA14     \"], \"xaxis\": \"x\", \"y\": [\"32 days \"], \"yaxis\": \"y\"}],                        {\"barmode\": \"stack\", \"legend\": {\"title\": {\"text\": \"duree_entree_sortie\"}, \"tracegroupgap\": 0}, \"template\": {\"data\": {\"bar\": [{\"error_x\": {\"color\": \"#2a3f5f\"}, \"error_y\": {\"color\": \"#2a3f5f\"}, \"marker\": {\"line\": {\"color\": \"#E5ECF6\", \"width\": 0.5}}, \"type\": \"bar\"}], \"barpolar\": [{\"marker\": {\"line\": {\"color\": \"#E5ECF6\", \"width\": 0.5}}, \"type\": \"barpolar\"}], \"carpet\": [{\"aaxis\": {\"endlinecolor\": \"#2a3f5f\", \"gridcolor\": \"white\", \"linecolor\": \"white\", \"minorgridcolor\": \"white\", \"startlinecolor\": \"#2a3f5f\"}, \"baxis\": {\"endlinecolor\": \"#2a3f5f\", \"gridcolor\": \"white\", \"linecolor\": \"white\", \"minorgridcolor\": \"white\", \"startlinecolor\": \"#2a3f5f\"}, \"type\": \"carpet\"}], \"choropleth\": [{\"colorbar\": {\"outlinewidth\": 0, \"ticks\": \"\"}, \"type\": \"choropleth\"}], \"contour\": [{\"colorbar\": {\"outlinewidth\": 0, \"ticks\": \"\"}, \"colorscale\": [[0.0, \"#0d0887\"], [0.1111111111111111, \"#46039f\"], [0.2222222222222222, \"#7201a8\"], [0.3333333333333333, \"#9c179e\"], [0.4444444444444444, \"#bd3786\"], [0.5555555555555556, \"#d8576b\"], [0.6666666666666666, \"#ed7953\"], [0.7777777777777778, \"#fb9f3a\"], [0.8888888888888888, \"#fdca26\"], [1.0, \"#f0f921\"]], \"type\": \"contour\"}], \"contourcarpet\": [{\"colorbar\": {\"outlinewidth\": 0, \"ticks\": \"\"}, \"type\": \"contourcarpet\"}], \"heatmap\": [{\"colorbar\": {\"outlinewidth\": 0, \"ticks\": \"\"}, \"colorscale\": [[0.0, \"#0d0887\"], [0.1111111111111111, \"#46039f\"], [0.2222222222222222, \"#7201a8\"], [0.3333333333333333, \"#9c179e\"], [0.4444444444444444, \"#bd3786\"], [0.5555555555555556, \"#d8576b\"], [0.6666666666666666, \"#ed7953\"], [0.7777777777777778, \"#fb9f3a\"], [0.8888888888888888, \"#fdca26\"], [1.0, \"#f0f921\"]], \"type\": \"heatmap\"}], \"heatmapgl\": [{\"colorbar\": {\"outlinewidth\": 0, \"ticks\": \"\"}, \"colorscale\": [[0.0, \"#0d0887\"], [0.1111111111111111, \"#46039f\"], [0.2222222222222222, \"#7201a8\"], [0.3333333333333333, \"#9c179e\"], [0.4444444444444444, \"#bd3786\"], [0.5555555555555556, \"#d8576b\"], [0.6666666666666666, \"#ed7953\"], [0.7777777777777778, \"#fb9f3a\"], [0.8888888888888888, \"#fdca26\"], [1.0, \"#f0f921\"]], \"type\": \"heatmapgl\"}], \"histogram\": [{\"marker\": {\"colorbar\": {\"outlinewidth\": 0, \"ticks\": \"\"}}, \"type\": \"histogram\"}], \"histogram2d\": [{\"colorbar\": {\"outlinewidth\": 0, \"ticks\": \"\"}, \"colorscale\": [[0.0, \"#0d0887\"], [0.1111111111111111, \"#46039f\"], [0.2222222222222222, \"#7201a8\"], [0.3333333333333333, \"#9c179e\"], [0.4444444444444444, \"#bd3786\"], [0.5555555555555556, \"#d8576b\"], [0.6666666666666666, \"#ed7953\"], [0.7777777777777778, \"#fb9f3a\"], [0.8888888888888888, \"#fdca26\"], [1.0, \"#f0f921\"]], \"type\": \"histogram2d\"}], \"histogram2dcontour\": [{\"colorbar\": {\"outlinewidth\": 0, \"ticks\": \"\"}, \"colorscale\": [[0.0, \"#0d0887\"], [0.1111111111111111, \"#46039f\"], [0.2222222222222222, \"#7201a8\"], [0.3333333333333333, \"#9c179e\"], [0.4444444444444444, \"#bd3786\"], [0.5555555555555556, \"#d8576b\"], [0.6666666666666666, \"#ed7953\"], [0.7777777777777778, \"#fb9f3a\"], [0.8888888888888888, \"#fdca26\"], [1.0, \"#f0f921\"]], \"type\": \"histogram2dcontour\"}], \"mesh3d\": [{\"colorbar\": {\"outlinewidth\": 0, \"ticks\": \"\"}, \"type\": \"mesh3d\"}], \"parcoords\": [{\"line\": {\"colorbar\": {\"outlinewidth\": 0, \"ticks\": \"\"}}, \"type\": \"parcoords\"}], \"pie\": [{\"automargin\": true, \"type\": \"pie\"}], \"scatter\": [{\"marker\": {\"colorbar\": {\"outlinewidth\": 0, \"ticks\": \"\"}}, \"type\": \"scatter\"}], \"scatter3d\": [{\"line\": {\"colorbar\": {\"outlinewidth\": 0, \"ticks\": \"\"}}, \"marker\": {\"colorbar\": {\"outlinewidth\": 0, \"ticks\": \"\"}}, \"type\": \"scatter3d\"}], \"scattercarpet\": [{\"marker\": {\"colorbar\": {\"outlinewidth\": 0, \"ticks\": \"\"}}, \"type\": \"scattercarpet\"}], \"scattergeo\": [{\"marker\": {\"colorbar\": {\"outlinewidth\": 0, \"ticks\": \"\"}}, \"type\": \"scattergeo\"}], \"scattergl\": [{\"marker\": {\"colorbar\": {\"outlinewidth\": 0, \"ticks\": \"\"}}, \"type\": \"scattergl\"}], \"scattermapbox\": [{\"marker\": {\"colorbar\": {\"outlinewidth\": 0, \"ticks\": \"\"}}, \"type\": \"scattermapbox\"}], \"scatterpolar\": [{\"marker\": {\"colorbar\": {\"outlinewidth\": 0, \"ticks\": \"\"}}, \"type\": \"scatterpolar\"}], \"scatterpolargl\": [{\"marker\": {\"colorbar\": {\"outlinewidth\": 0, \"ticks\": \"\"}}, \"type\": \"scatterpolargl\"}], \"scatterternary\": [{\"marker\": {\"colorbar\": {\"outlinewidth\": 0, \"ticks\": \"\"}}, \"type\": \"scatterternary\"}], \"surface\": [{\"colorbar\": {\"outlinewidth\": 0, \"ticks\": \"\"}, \"colorscale\": [[0.0, \"#0d0887\"], [0.1111111111111111, \"#46039f\"], [0.2222222222222222, \"#7201a8\"], [0.3333333333333333, \"#9c179e\"], [0.4444444444444444, \"#bd3786\"], [0.5555555555555556, \"#d8576b\"], [0.6666666666666666, \"#ed7953\"], [0.7777777777777778, \"#fb9f3a\"], [0.8888888888888888, \"#fdca26\"], [1.0, \"#f0f921\"]], \"type\": \"surface\"}], \"table\": [{\"cells\": {\"fill\": {\"color\": \"#EBF0F8\"}, \"line\": {\"color\": \"white\"}}, \"header\": {\"fill\": {\"color\": \"#C8D4E3\"}, \"line\": {\"color\": \"white\"}}, \"type\": \"table\"}]}, \"layout\": {\"annotationdefaults\": {\"arrowcolor\": \"#2a3f5f\", \"arrowhead\": 0, \"arrowwidth\": 1}, \"autotypenumbers\": \"strict\", \"coloraxis\": {\"colorbar\": {\"outlinewidth\": 0, \"ticks\": \"\"}}, \"colorscale\": {\"diverging\": [[0, \"#8e0152\"], [0.1, \"#c51b7d\"], [0.2, \"#de77ae\"], [0.3, \"#f1b6da\"], [0.4, \"#fde0ef\"], [0.5, \"#f7f7f7\"], [0.6, \"#e6f5d0\"], [0.7, \"#b8e186\"], [0.8, \"#7fbc41\"], [0.9, \"#4d9221\"], [1, \"#276419\"]], \"sequential\": [[0.0, \"#0d0887\"], [0.1111111111111111, \"#46039f\"], [0.2222222222222222, \"#7201a8\"], [0.3333333333333333, \"#9c179e\"], [0.4444444444444444, \"#bd3786\"], [0.5555555555555556, \"#d8576b\"], [0.6666666666666666, \"#ed7953\"], [0.7777777777777778, \"#fb9f3a\"], [0.8888888888888888, \"#fdca26\"], [1.0, \"#f0f921\"]], \"sequentialminus\": [[0.0, \"#0d0887\"], [0.1111111111111111, \"#46039f\"], [0.2222222222222222, \"#7201a8\"], [0.3333333333333333, \"#9c179e\"], [0.4444444444444444, \"#bd3786\"], [0.5555555555555556, \"#d8576b\"], [0.6666666666666666, \"#ed7953\"], [0.7777777777777778, \"#fb9f3a\"], [0.8888888888888888, \"#fdca26\"], [1.0, \"#f0f921\"]]}, \"colorway\": [\"#636efa\", \"#EF553B\", \"#00cc96\", \"#ab63fa\", \"#FFA15A\", \"#19d3f3\", \"#FF6692\", \"#B6E880\", \"#FF97FF\", \"#FECB52\"], \"font\": {\"color\": \"#2a3f5f\"}, \"geo\": {\"bgcolor\": \"white\", \"lakecolor\": \"white\", \"landcolor\": \"#E5ECF6\", \"showlakes\": true, \"showland\": true, \"subunitcolor\": \"white\"}, \"hoverlabel\": {\"align\": \"left\"}, \"hovermode\": \"closest\", \"mapbox\": {\"style\": \"light\"}, \"paper_bgcolor\": \"white\", \"plot_bgcolor\": \"#E5ECF6\", \"polar\": {\"angularaxis\": {\"gridcolor\": \"white\", \"linecolor\": \"white\", \"ticks\": \"\"}, \"bgcolor\": \"#E5ECF6\", \"radialaxis\": {\"gridcolor\": \"white\", \"linecolor\": \"white\", \"ticks\": \"\"}}, \"scene\": {\"xaxis\": {\"backgroundcolor\": \"#E5ECF6\", \"gridcolor\": \"white\", \"gridwidth\": 2, \"linecolor\": \"white\", \"showbackground\": true, \"ticks\": \"\", \"zerolinecolor\": \"white\"}, \"yaxis\": {\"backgroundcolor\": \"#E5ECF6\", \"gridcolor\": \"white\", \"gridwidth\": 2, \"linecolor\": \"white\", \"showbackground\": true, \"ticks\": \"\", \"zerolinecolor\": \"white\"}, \"zaxis\": {\"backgroundcolor\": \"#E5ECF6\", \"gridcolor\": \"white\", \"gridwidth\": 2, \"linecolor\": \"white\", \"showbackground\": true, \"ticks\": \"\", \"zerolinecolor\": \"white\"}}, \"shapedefaults\": {\"line\": {\"color\": \"#2a3f5f\"}}, \"ternary\": {\"aaxis\": {\"gridcolor\": \"white\", \"linecolor\": \"white\", \"ticks\": \"\"}, \"baxis\": {\"gridcolor\": \"white\", \"linecolor\": \"white\", \"ticks\": \"\"}, \"bgcolor\": \"#E5ECF6\", \"caxis\": {\"gridcolor\": \"white\", \"linecolor\": \"white\", \"ticks\": \"\"}}, \"title\": {\"x\": 0.05}, \"xaxis\": {\"automargin\": true, \"gridcolor\": \"white\", \"linecolor\": \"white\", \"ticks\": \"\", \"title\": {\"standoff\": 15}, \"zerolinecolor\": \"white\", \"zerolinewidth\": 2}, \"yaxis\": {\"automargin\": true, \"gridcolor\": \"white\", \"linecolor\": \"white\", \"ticks\": \"\", \"title\": {\"standoff\": 15}, \"zerolinecolor\": \"white\", \"zerolinewidth\": 2}}}, \"title\": {\"text\": \"dur\\u00e9e entr\\u00e9e sortie de Logements\"}, \"xaxis\": {\"anchor\": \"y\", \"domain\": [0.0, 1.0], \"title\": {\"text\": \"Logement\"}}, \"yaxis\": {\"anchor\": \"x\", \"categoryarray\": [\"32 days \", \"525 days \", \"1802 days \", \"4342 days \", \"925 days \", \"1525 days \", \"961 days \", \"1402 days \", \"242 days \", \"2622 days \", \"1795 days\", \"794 days \", \"664 days \", \"14 days \", \"1420 days \", \"729 days \", \"732 days \", \"732 days\", \"457 days \", \"312 days \", \"10 days \", \"767 days \", \"522 days \", \"760 days \", \"71 days \", \"627 days \", \"24 days \", \"43 days \", \"634 days \", \"91 days \", \"18 days \", \"401 days \", \"15 days \", \"220 days \", \"337 days \", \"354 days \", \"221 days \", \"48 days \", \"89 days \", \"584 days \", \"1095 days \", \"1323 days \", \"853 days \", \"23 days \", \"1 days \", \"189 days \", \"556 days \", \"4369 days\", \"490 days \"], \"categoryorder\": \"array\", \"domain\": [0.0, 1.0], \"title\": {\"text\": \"duree_entree_sortie\"}}},                        {\"responsive\": true}                    ).then(function(){\n",
       "                            \n",
       "var gd = document.getElementById('7ce19411-b981-4383-ac82-7ec63a3933d5');\n",
       "var x = new MutationObserver(function (mutations, observer) {{\n",
       "        var display = window.getComputedStyle(gd).display;\n",
       "        if (!display || display === 'none') {{\n",
       "            console.log([gd, 'removed!']);\n",
       "            Plotly.purge(gd);\n",
       "            observer.disconnect();\n",
       "        }}\n",
       "}});\n",
       "\n",
       "// Listen for the removal of the full notebook cells\n",
       "var notebookContainer = gd.closest('#notebook-container');\n",
       "if (notebookContainer) {{\n",
       "    x.observe(notebookContainer, {childList: true});\n",
       "}}\n",
       "\n",
       "// Listen for the clearing of the current output cell\n",
       "var outputEl = gd.closest('.output');\n",
       "if (outputEl) {{\n",
       "    x.observe(outputEl, {childList: true});\n",
       "}}\n",
       "\n",
       "                        })                };                });            </script>        </div>"
      ]
     },
     "metadata": {},
     "output_type": "display_data"
    }
   ],
   "source": []
  },
  {
   "cell_type": "code",
   "execution_count": null,
   "id": "782dce32",
   "metadata": {},
   "outputs": [],
   "source": []
  }
 ],
 "metadata": {
  "kernelspec": {
   "display_name": "Python 3",
   "language": "python",
   "name": "python3"
  },
  "language_info": {
   "codemirror_mode": {
    "name": "ipython",
    "version": 3
   },
   "file_extension": ".py",
   "mimetype": "text/x-python",
   "name": "python",
   "nbconvert_exporter": "python",
   "pygments_lexer": "ipython3",
   "version": "3.9.5"
  }
 },
 "nbformat": 4,
 "nbformat_minor": 5
}
